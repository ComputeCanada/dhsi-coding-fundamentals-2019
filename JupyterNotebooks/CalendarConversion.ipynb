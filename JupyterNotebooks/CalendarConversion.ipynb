{
 "cells": [
  {
   "cell_type": "markdown",
   "metadata": {},
   "source": [
    "In 1582, (most of) Catholic Europe adopted a new calendar: the Gregorian calendar that we use today. However, other parts of Europe continued to use the Julian calendar for decades or even centuries, creating a difference of 10 or 11 days between these calendars. This is a program to convert dates from the Gregorian to Julian calendar, for dates between 1582 and 1752 (when Great Britain adopted the Gregorian calendar). The year 1700 was a leap year for the Julian calendar but not for the Gregorian calendar - for simplicity, we assume the difference between them changes on 1/1/1700 (it really changes on Gregorian date 3/10/1700)."
   ]
  },
  {
   "cell_type": "markdown",
   "metadata": {},
   "source": [
    "Normally when a program has an error, it sends an error code and stops running. *try* and *except* are instructions that tell the program to try something and, if it encounters an error, do something else.\n",
    "\n",
    "This cell also includes conditionals - *if*, *elif* which is short for \"else if\", and *else* - which guides the programs through a series of if/then options and tells it which to do based on whether a given condition is true or false.\n",
    "\n",
    "Try running the cell multiple times and give it a variety of different input to see what happens."
   ]
  },
  {
   "cell_type": "code",
   "execution_count": null,
   "metadata": {},
   "outputs": [],
   "source": [
    "#ask user for input and error check\n",
    "try:\n",
    "    #ask for month and check for validity\n",
    "    GregorianMonth = int(input('Enter a month in numerical form, e.g. \"12\" is December: '))\n",
    "    if (GregorianMonth < 1 or GregorianMonth > 12):\n",
    "        print(\"There are only 12 months in a year.\")\n",
    "            \n",
    "    #ask for day and check for validity\n",
    "    GregorianDay = int(input('Enter a day: '))\n",
    "    if (GregorianDay > 28 and GregorianMonth == 2):\n",
    "        print(\"February only has 28 days.\")\n",
    "    elif ((GregorianDay == 31) and (GregorianMonth == 4 or GregorianMonth == 6 or GregorianMonth == 9 or GregorianMonth == 11)):\n",
    "        GregorianYear = \"error\"\n",
    "        print(\"That month only has 30 days.\")\n",
    "    elif (GregorianDay < 1 or GregorianDay > 31):\n",
    "        print(\"There are between 1 and 31 days in a month.\")\n",
    "            \n",
    "    #ask for year and check for validity\n",
    "    GregorianYear = int(input('Enter a year between 1582 and 1752: '))\n",
    "    if (GregorianYear < 1582) or (GregorianYear > 1753):\n",
    "        print(\"That is not a year between 1582 and 1752.\")\n",
    "\n",
    "except ValueError:\n",
    "    print(\"Please enter valid numbers.\")"
   ]
  },
  {
   "cell_type": "markdown",
   "metadata": {},
   "source": [
    "Once we have a valid month, day, and year (and make sure that the last time you run the cell above this one that you give it valid input!) we need to subtract either 10 or 11 days from the given date. We also print the new day here for error-checking."
   ]
  },
  {
   "cell_type": "code",
   "execution_count": null,
   "metadata": {},
   "outputs": [],
   "source": [
    "#determine how many days must be subtracted to convert from Gregorian to Julian date\n",
    "if (GregorianYear < 1700 or (GregorianYear == 1700 and GregorianMonth < 3)):\n",
    "    tempDay = GregorianDay - 10\n",
    "else:\n",
    "    tempDay = GregorianDay - 11\n",
    "print(tempDay)"
   ]
  },
  {
   "cell_type": "markdown",
   "metadata": {},
   "source": [
    "We also need to determine whether subtracting 10 or 11 days has put us in a new calendar year. Again, we print the new year here for error-checking."
   ]
  },
  {
   "cell_type": "code",
   "execution_count": null,
   "metadata": {},
   "outputs": [],
   "source": [
    "#convert from Gregorian to Julian Year in the English calendar, whose New Year begins March 25\n",
    "if (GregorianMonth < 3) or (GregorianMonth == 3 and tempDay < 25):\n",
    "    JulianYear = GregorianYear - 1\n",
    "else:\n",
    "    JulianYear = GregorianYear\n",
    "print(JulianYear)"
   ]
  },
  {
   "cell_type": "markdown",
   "metadata": {},
   "source": [
    "The hardest part of this conversion is determining the new month and day of the month. These conditionals are \"nested\" - one conditional sits inside another one - and are meant to deal with conversions that require us to change the month. Notice the level of complexity needed to deal with whether a month is 28, 29, 30, or 31 days."
   ]
  },
  {
   "cell_type": "code",
   "execution_count": null,
   "metadata": {},
   "outputs": [],
   "source": [
    "#convert from Gregorian to Julian Month and Day\n",
    "if (tempDay > 0):\n",
    "    JulianMonth = GregorianMonth\n",
    "    JulianDay = tempDay\n",
    "else:\n",
    "    JulianMonth = GregorianMonth - 1\n",
    "    if (JulianMonth == 2 and (GregorianYear % 4) != 0): # year not divisible by 4, non-leap year\n",
    "        JulianDay = 28 + tempDay\n",
    "    elif (JulianMonth == 2 and (GregorianYear % 4) == 0): # year divisible by 4, leap year\n",
    "        JulianDay = 29 + tempDay\n",
    "    elif (JulianMonth == 4 or JulianMonth == 6 or JulianMonth == 9 or JulianMonth == 11):\n",
    "        JulianDay = 30 + tempDay\n",
    "    else:\n",
    "        JulianDay = 31 + tempDay\n",
    "print(JulianMonth)\n",
    "print(JulianDay)"
   ]
  },
  {
   "cell_type": "markdown",
   "metadata": {},
   "source": [
    "This last bit of code is to double-check and make sure we have December coming right before January."
   ]
  },
  {
   "cell_type": "code",
   "execution_count": null,
   "metadata": {},
   "outputs": [],
   "source": [
    "#sanity check on the month variable\n",
    "if (JulianMonth == 0):\n",
    "    JulianMonth = 12\n",
    "print(JulianMonth)"
   ]
  },
  {
   "cell_type": "markdown",
   "metadata": {},
   "source": [
    "Last, but not least, we print out the answer in a more verbal format for the ease of human comprehension."
   ]
  },
  {
   "cell_type": "code",
   "execution_count": null,
   "metadata": {},
   "outputs": [],
   "source": [
    "#provide human-readable output\n",
    "print (\"The date \" + str(GregorianMonth) + \"-\" + str(GregorianDay) + \"-\" + str(GregorianYear) + \" on the Continent was \" + str(JulianMonth) + \"-\" + str(JulianDay) + \"-\" + str(JulianYear) + \" in England\")"
   ]
  },
  {
   "cell_type": "code",
   "execution_count": null,
   "metadata": {},
   "outputs": [],
   "source": []
  }
 ],
 "metadata": {
  "kernelspec": {
   "display_name": "Python 3",
   "language": "python",
   "name": "python3"
  },
  "language_info": {
   "codemirror_mode": {
    "name": "ipython",
    "version": 3
   },
   "file_extension": ".py",
   "mimetype": "text/x-python",
   "name": "python",
   "nbconvert_exporter": "python",
   "pygments_lexer": "ipython3",
   "version": "3.6.5"
  }
 },
 "nbformat": 4,
 "nbformat_minor": 2
}
