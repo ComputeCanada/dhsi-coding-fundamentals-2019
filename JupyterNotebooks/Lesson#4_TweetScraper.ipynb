{
 "cells": [
  {
   "cell_type": "markdown",
   "metadata": {},
   "source": [
    "### Basic Tweet Scraper: 100 tweets at a time"
   ]
  },
  {
   "cell_type": "code",
   "execution_count": null,
   "metadata": {
    "collapsed": false
   },
   "outputs": [],
   "source": [
    "#from https://marcobonzanini.com/2015/03/02/mining-twitter-data-with-python-part-1/\n",
    "#tweepy can be installed with 'pip install tweepy'\n",
    "import tweepy\n",
    "from tweepy import OAuthHandler\n",
    " \n",
    "consumer_key = 'Your key here'\n",
    "consumer_secret = 'Your secret here'\n",
    "access_token = 'Your key here'\n",
    "access_secret = 'Your secret here'\n",
    " \n",
    "auth = OAuthHandler(consumer_key, consumer_secret)\n",
    "auth.set_access_token(access_token, access_secret)\n",
    " \n",
    "api = tweepy.API(auth)\n",
    "\n",
    "results = api.search(\"#trump\", count=100) #100 is the max that the api search will return\n",
    "print(len(results))\n",
    "for item in results:\n",
    "    print(item.text)\n",
    "    print(type(item))\n",
    "    break\n",
    "#for friend in tweepy.Cursor(api.search(\"#trump\")).items(10):\n",
    "#    print(friend.name)"
   ]
  },
  {
   "cell_type": "markdown",
   "metadata": {},
   "source": [
    "### Output results of base scraper"
   ]
  },
  {
   "cell_type": "code",
   "execution_count": null,
   "metadata": {
    "collapsed": false
   },
   "outputs": [],
   "source": [
    "import json\n",
    "with open(\"trumpTweets4.json\", \"w\") as f:\n",
    "    print(len(results))\n",
    "    for tweet in results:\n",
    "        f.write(json.dumps(tweet._json) + \"\\n\")"
   ]
  },
  {
   "cell_type": "markdown",
   "metadata": {},
   "source": [
    "### Streaming Tweet Scraper: As many tweets as possible over for as long as it runs"
   ]
  },
  {
   "cell_type": "code",
   "execution_count": null,
   "metadata": {
    "collapsed": false
   },
   "outputs": [],
   "source": [
    "# from https://marcobonzanini.com/2015/03/02/mining-twitter-data-with-python-part-1/\n",
    "# IMPORTANT: this cell will run until you stop it, it crashes, or you run out of space.\n",
    "from tweepy import Stream\n",
    "from tweepy.streaming import StreamListener\n",
    " \n",
    "class MyListener(StreamListener):\n",
    " \n",
    "    def on_data(self, data):\n",
    "        try:\n",
    "            with open('trumpStream.json', 'a') as f:\n",
    "                f.write(data)\n",
    "                return True\n",
    "        except BaseException as e:\n",
    "            print(\"Error on_data: %s\" % str(e))\n",
    "        return True\n",
    " \n",
    "    def on_error(self, status):\n",
    "        print(status)\n",
    "        return True\n",
    " \n",
    "twitter_stream = Stream(auth, MyListener())\n",
    "twitter_stream.filter(track=['#trump'])"
   ]
  }
 ],
 "metadata": {
  "kernelspec": {
   "display_name": "Python 3",
   "language": "python",
   "name": "python3"
  },
  "language_info": {
   "codemirror_mode": {
    "name": "ipython",
    "version": 3
   },
   "file_extension": ".py",
   "mimetype": "text/x-python",
   "name": "python",
   "nbconvert_exporter": "python",
   "pygments_lexer": "ipython3",
   "version": "3.6.0"
  }
 },
 "nbformat": 4,
 "nbformat_minor": 0
}
