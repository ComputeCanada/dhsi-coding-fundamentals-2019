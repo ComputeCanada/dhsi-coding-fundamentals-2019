{
 "cells": [
  {
   "cell_type": "markdown",
   "metadata": {},
   "source": [
    "In 1582, (most of) Catholic Europe adopted a new calendar: the Gregorian calendar that we use today. However, other parts of Europe continued to use the Julian calendar for decades or even centuries, creating a difference of 10 or 11 days between these calendars. This is a program to convert dates from the Gregorian to Julian calendar, for dates between 1582 and 1752 (when Great Britain adopted the Gregorian calendar). The year 1700 was a leap year for the Julian calendar but not for the Gregorian calendar - for simplicity, we assume the difference between them changes on 1/1/1700 (it really changes on Gregorian date 3/10/1700)."
   ]
  },
  {
   "cell_type": "code",
   "execution_count": null,
   "metadata": {},
   "outputs": [],
   "source": [
    "# import the module that lets us easily read csv's\n",
    "import csv"
   ]
  },
  {
   "cell_type": "markdown",
   "metadata": {},
   "source": [
    "Importing a module will not give you any feedback unless something breaks and you get an error message. Similarly, you will get little feedback opening and closing files (below) unless it can't find your file. You will be able to see the new csv file you created in your browser (but don't open it while the program is trying to run on it!)"
   ]
  },
  {
   "cell_type": "code",
   "execution_count": null,
   "metadata": {},
   "outputs": [],
   "source": [
    "# open csv file of dates and read in the dates; originalDatesReader is a list of lists\n",
    "originalDatesFile = open(\"originalDates.csv\")\n",
    "originalDatesReader = csv.reader(originalDatesFile)\n",
    "\n",
    "# create csv file where we will write the dates as we process them\n",
    "newDatesFile = open(\"newDates.csv\", \"w\")"
   ]
  },
  {
   "cell_type": "markdown",
   "metadata": {},
   "source": [
    "Assuming the format of the dates is mm/dd/yyyy, we need to split each date into month, day, year and make them integers. We ask the program to print the dates for us as an error-checking step (it's not necessary). Notice the formatting: [] tell us this is a list of objects and the '' tell us those objects are strings."
   ]
  },
  {
   "cell_type": "code",
   "execution_count": null,
   "metadata": {},
   "outputs": [],
   "source": [
    "# we are looping through each list in originalDatesReader\n",
    "for date in originalDatesReader:    \n",
    "                \n",
    "    print(splitDate) # you can see splitDate is a list of the 3 numbers separated by / which we want to split apart    \n",
    "    splitDate = date[0].split(\"/\")                      \n",
    "    month = splitDate[0]\n",
    "    day = splitDate[1]\n",
    "    year = splitDate[2]"
   ]
  },
  {
   "cell_type": "markdown",
   "metadata": {},
   "source": [
    "Because the program is assuming everything is a string, or random alphanumeric characters, we need to tell the program that these are integers. Once again, we print for error-checking."
   ]
  },
  {
   "cell_type": "code",
   "execution_count": null,
   "metadata": {},
   "outputs": [],
   "source": [
    "    month = int(month)\n",
    "    day = int(day)\n",
    "    year = int(year)\n",
    "    print(month)\n",
    "    print(day)\n",
    "    print(year)"
   ]
  },
  {
   "cell_type": "markdown",
   "metadata": {},
   "source": [
    "Now that we've isolated a single date from the spreadsheet and broken it apart into month, day, year, we need to convert that to the Gregorian date by subtracting 10 or 11 days. We do this with conditionals - \"if\" and \"else\" statements."
   ]
  },
  {
   "cell_type": "code",
   "execution_count": null,
   "metadata": {},
   "outputs": [],
   "source": [
    "    # if the year is before 1700, subtract 10 days; otherwise subtract 11 days\n",
    "    if year < 1700:\n",
    "        JulianDay = day - 10\n",
    "    else:\n",
    "        JulianDay = day - 11\n",
    "\n",
    "    # if after subtracting, JulianDay is 0 or negative, subtract 1 from month; otherwise the month stays the same\n",
    "    if JulianDay <= 0:\n",
    "        JulianMonth = month - 1\n",
    "    else:\n",
    "        JulianMonth = month\n",
    "    \n",
    "    # if JulianMonth ends up equal to 0, make it 12 and subtract 1 from year; otherwise the year stays the same\n",
    "    if JulianMonth == 0:\n",
    "        JulianMonth = 12\n",
    "        JulianYear = year - 1\n",
    "    else:\n",
    "        JulianYear = year\n",
    "\n",
    "    # if JulianDay is 0 or negative, use JulianMonth variable to determine the actual day\n",
    "    if JulianDay <= 0:\n",
    "    \n",
    "        #is JulianMonth in this list of 31-day months?\n",
    "        if JulianMonth in [1,3,5,7,8,10,12]:\n",
    "        \n",
    "            #if so, add 31 to JulianDay and save that number in place of my original JulianDay            \n",
    "            JulianDay = JulianDay + 31         \n",
    "                     \n",
    "        #if not, is it in this list of 30-day months?\n",
    "        elif JulianMonth in [4,6,9,11]:     \n",
    "                    \n",
    "            #if so, add 30 to JulianDay and save that number in place of my original JulianDay\n",
    "            JulianDay = JulianDay + 30   \n",
    "               \n",
    "        #I could have also used \"else\" here, but \"elif\" allows me to make clear this is for when JulianMonth is February              \n",
    "        elif JulianMonth == 2:  \n",
    "        \n",
    "            #is year divisible by 4?                        \n",
    "            if year % 4 == 0:     \n",
    "            \n",
    "                #if so, we are in a leap year and February has 29 days                      \n",
    "                JulianDay = JulianDay + 29              \n",
    "            else:\n",
    "            \n",
    "                #if not, February has 28 days\n",
    "                JulianDay = JulianDay + 28              "
   ]
  },
  {
   "cell_type": "markdown",
   "metadata": {},
   "source": [
    "Now we need to send the dates to the new csv file, putting them back into mm/dd/yyyy format and putting one date on each line."
   ]
  },
  {
   "cell_type": "code",
   "execution_count": null,
   "metadata": {},
   "outputs": [],
   "source": [
    "    # send dates to a new csv file, reinserting them into mm/dd/yyyy format and putting one date on each line\n",
    "    newDatesFile.write(str(JulianMonth) + \"/\" + str(JulianDay) + \"/\" + str(JulianYear)+\"\\r\\n\")"
   ]
  },
  {
   "cell_type": "markdown",
   "metadata": {},
   "source": [
    "Last, but NEVER least, we need to close the files we've been using so we don't accidentally corrupt them or crash something."
   ]
  },
  {
   "cell_type": "code",
   "execution_count": null,
   "metadata": {},
   "outputs": [],
   "source": [
    "# close the files\n",
    "originalDatesFile.close()\n",
    "newDatesFile.close()"
   ]
  },
  {
   "cell_type": "code",
   "execution_count": null,
   "metadata": {},
   "outputs": [],
   "source": []
  }
 ],
 "metadata": {
  "kernelspec": {
   "display_name": "Python 3",
   "language": "python",
   "name": "python3"
  },
  "language_info": {
   "codemirror_mode": {
    "name": "ipython",
    "version": 3
   },
   "file_extension": ".py",
   "mimetype": "text/x-python",
   "name": "python",
   "nbconvert_exporter": "python",
   "pygments_lexer": "ipython3",
   "version": "3.6.5"
  }
 },
 "nbformat": 4,
 "nbformat_minor": 2
}
