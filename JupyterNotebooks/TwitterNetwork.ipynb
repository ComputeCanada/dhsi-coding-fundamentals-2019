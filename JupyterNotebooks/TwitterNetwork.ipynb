{
 "cells": [
  {
   "cell_type": "markdown",
   "metadata": {},
   "source": [
    "This is a program to take a TAGS archival spreadsheet (a list of tweets made by people) and convert it into a network of Twitter handles (e.g. a social network of who was tweeting to/at who)."
   ]
  },
  {
   "cell_type": "code",
   "execution_count": null,
   "metadata": {},
   "outputs": [],
   "source": [
    "# import modules - this is a necessary pre-step and doesn't give you feedback unless something goes wrong.\n",
    "import csv"
   ]
  },
  {
   "cell_type": "markdown",
   "metadata": {},
   "source": [
    "The program begins by asking for the name of your file and printing it again for error-checking. Type \"shax2019.csv\" which is the name of the file that has been provided for you."
   ]
  },
  {
   "cell_type": "code",
   "execution_count": null,
   "metadata": {},
   "outputs": [],
   "source": [
    "file = input('What is the exact name of your csv file (include the .csv) ')\n",
    "print(file)"
   ]
  },
  {
   "cell_type": "markdown",
   "metadata": {},
   "source": [
    "We begin by opening the file whose name was given in the step above - you will get an error message if you did the name wrong. We also read all the information from the file and create a new file with a header row to export the final results."
   ]
  },
  {
   "cell_type": "code",
   "execution_count": null,
   "metadata": {},
   "outputs": [],
   "source": [
    "# open and read the files, create Header Row for export .csv\n",
    "text = open(file)\n",
    "entry = csv.reader(text)\n",
    "\n",
    "export_file_name = file[:-4] + \"_edge_list.csv\"\n",
    "handles = open(export_file_name, 'a+')\n",
    "handles.write('source,target\\n')"
   ]
  },
  {
   "cell_type": "markdown",
   "metadata": {},
   "source": [
    "We use *for* to tell the program to do something \"for as long as x condition holds true\" which in this case is \"for as long as there is another line in the csv\". We print the input in this example as we go through the loop so you can see what it's doing, but we wouldn't bother in the final program."
   ]
  },
  {
   "cell_type": "code",
   "execution_count": null,
   "metadata": {},
   "outputs": [],
   "source": [
    "# import entities_str column\n",
    "for line in entry:\n",
    "    # extract the initial tweeter handle from column B\n",
    "    from_user = line[1]\n",
    "    print(from_user)\n",
    "        \n",
    "    # extract the entities_str (full tweet) text from column Q\n",
    "    entities_str = line[16]\n",
    "    print(entities_str)\n",
    "\n",
    "    # split entities_str into a list whose first item is misc. characters and subsequent items start with a twitter handle\n",
    "    entities_str = entities_str.split('\"screen_name\":\"')\n",
    "    print(entities_str)\n",
    "        \n",
    "    # remove the first item of misc. characters\n",
    "    entities_str.pop(0)\n",
    "        \n",
    "    # isolate just the twitter handles from subsequent items\n",
    "    for item in entities_str:\n",
    "        item = item.split('\"')\n",
    "        item = item[0]\n",
    "        print(item)\n",
    "            \n",
    "        # write initial tweeter handle and entities_str twitter handles to file in network edge format\n",
    "        handles.write(from_user + ',' + item + '\\n')"
   ]
  },
  {
   "cell_type": "markdown",
   "metadata": {},
   "source": [
    "Last but not least, we close the files to make sure we don't corrupt them or anything by leaving them hanging open."
   ]
  },
  {
   "cell_type": "code",
   "execution_count": null,
   "metadata": {},
   "outputs": [],
   "source": [
    "# close files\n",
    "text.close()\n",
    "handles.close()"
   ]
  },
  {
   "cell_type": "code",
   "execution_count": null,
   "metadata": {},
   "outputs": [],
   "source": []
  }
 ],
 "metadata": {
  "kernelspec": {
   "display_name": "Python 3",
   "language": "python",
   "name": "python3"
  },
  "language_info": {
   "codemirror_mode": {
    "name": "ipython",
    "version": 3
   },
   "file_extension": ".py",
   "mimetype": "text/x-python",
   "name": "python",
   "nbconvert_exporter": "python",
   "pygments_lexer": "ipython3",
   "version": "3.6.5"
  }
 },
 "nbformat": 4,
 "nbformat_minor": 2
}
