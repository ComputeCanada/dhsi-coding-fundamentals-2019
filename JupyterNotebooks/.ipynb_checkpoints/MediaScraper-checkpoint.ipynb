{
 "cells": [
  {
   "cell_type": "markdown",
   "metadata": {},
   "source": [
    "OPTIONAL: Install the `newspaper` library.  Only needs to be run if it is not already installed on the system."
   ]
  },
  {
   "cell_type": "code",
   "execution_count": null,
   "metadata": {},
   "outputs": [],
   "source": [
    "!pip install --use newspaper"
   ]
  },
  {
   "cell_type": "markdown",
   "metadata": {},
   "source": [
    "Import the needed libraries."
   ]
  },
  {
   "cell_type": "code",
   "execution_count": 1,
   "metadata": {},
   "outputs": [],
   "source": [
    "import newspaper\n",
    "import re"
   ]
  },
  {
   "cell_type": "markdown",
   "metadata": {},
   "source": [
    "Declare the url of the online media source (newspaper) and then direct the newspaper library to scrape this sources and build a collection."
   ]
  },
  {
   "cell_type": "code",
   "execution_count": 2,
   "metadata": {},
   "outputs": [],
   "source": [
    "paper_url='https://www.thestar.com/'\n",
    "paper = newspaper.build(paper_url, memorize_articles=False, browser_user_agent = \"Mozilla/5.0\")"
   ]
  },
  {
   "cell_type": "markdown",
   "metadata": {},
   "source": [
    "Check that there is content by printing the number of articles (length) of the collection built."
   ]
  },
  {
   "cell_type": "code",
   "execution_count": 3,
   "metadata": {},
   "outputs": [
    {
     "name": "stdout",
     "output_type": "stream",
     "text": [
      "282\n"
     ]
    }
   ],
   "source": [
    "print(len(paper.articles))"
   ]
  },
  {
   "cell_type": "markdown",
   "metadata": {},
   "source": [
    "Print the title, url, authors, and a summary of each article collected."
   ]
  },
  {
   "cell_type": "code",
   "execution_count": null,
   "metadata": {},
   "outputs": [],
   "source": [
    "for article in paper.articles:\n",
    "    article.download()\n",
    "    article.parse()\n",
    "    #print(article.top_node,article.clean_top_node)\n",
    "    print(article.title,article.url,article.authors,article.summary)"
   ]
  },
  {
   "cell_type": "markdown",
   "metadata": {},
   "source": [
    "If you wanted to insert all the collected content into a database that might look something like this (Note that you'd need to have a database setup, which we don't, and so the code below would fail because the background infrastructure does not exist; the code below was written for MongoDB.):\n",
    "\n",
    "    collection.insert_one({\n",
    "        'source' : \"The Globe And Mail\",\n",
    "        'title' : article.title,\n",
    "        'url' : url_clean.sub(\"\",article.url),\n",
    "        'category' : category_extract.findall(article.url)[1:-1],\n",
    "        'publishedAt' : article.publish_date,\n",
    "        'authors' : article.authors,\n",
    "        'description' : article.meta_description,\n",
    "        'body' : article.text,\n",
    "        'bodyRaw' : article.html,"
   ]
  },
  {
   "cell_type": "markdown",
   "metadata": {},
   "source": [
    "Once we know that we can grab the articles currently listed on a site we can do more advanced things with the data, like find articles on certain topics or do topic modelling of the articles."
   ]
  }
 ],
 "metadata": {
  "kernelspec": {
   "display_name": "Python 3",
   "language": "python",
   "name": "python3"
  },
  "language_info": {
   "codemirror_mode": {
    "name": "ipython",
    "version": 3
   },
   "file_extension": ".py",
   "mimetype": "text/x-python",
   "name": "python",
   "nbconvert_exporter": "python",
   "pygments_lexer": "ipython3",
   "version": "3.6.8"
  }
 },
 "nbformat": 4,
 "nbformat_minor": 2
}
