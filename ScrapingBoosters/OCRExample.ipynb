{
 "cells": [
  {
   "cell_type": "markdown",
   "metadata": {},
   "source": [
    "Ok, we're going to do some OCRing of some PDFs.  We'll start with one PDF and then move on to multiple.  First we'll need a library called `pytesseract` to do this.  This library really just passes content to an underlying program called `tesseract`.  Installing this might require the installation of Homebrew (or MacPorts) on a Mac and I have no idea how to install it on Windows...  In any case, we'll see how far this booster goes before we worry about that.\n",
    "\n",
    "https://pythontips.com/2016/02/25/ocr-on-pdf-files-using-python/"
   ]
  },
  {
   "cell_type": "code",
   "execution_count": 6,
   "metadata": {},
   "outputs": [
    {
     "name": "stdout",
     "output_type": "stream",
     "text": [
      "Requirement already satisfied: pytesseract in /Users/simpson/anaconda3/lib/python3.6/site-packages (0.2.6)\n",
      "Collecting pyocr\n",
      "\u001b[?25l  Downloading https://files.pythonhosted.org/packages/3d/9a/7da4293c07e5a846569d8fb5aa2572735a6776f87bdf28e568ee780fbcf4/pyocr-0.7.tar.gz (67kB)\n",
      "\u001b[K     |████████████████████████████████| 71kB 3.5MB/s eta 0:00:01\n",
      "\u001b[?25hRequirement already satisfied: Pillow in /Users/simpson/anaconda3/lib/python3.6/site-packages (from pytesseract) (5.0.0)\n",
      "Building wheels for collected packages: pyocr\n",
      "  Building wheel for pyocr (setup.py) ... \u001b[?25ldone\n",
      "\u001b[?25h  Stored in directory: /Users/simpson/Library/Caches/pip/wheels/83/4a/42/7049200a5b50238466af2bedb6ce348a98c1201d870e93c360\n",
      "Successfully built pyocr\n",
      "Installing collected packages: pyocr\n",
      "Successfully installed pyocr-0.7\n"
     ]
    }
   ],
   "source": [
    "!pip install pytesseract pyocr"
   ]
  },
  {
   "cell_type": "code",
   "execution_count": 7,
   "metadata": {},
   "outputs": [],
   "source": [
    "from wand.image import Image\n",
    "from PIL import Image as PI\n",
    "import pyocr\n",
    "import pyocr.builders\n",
    "import io"
   ]
  },
  {
   "cell_type": "code",
   "execution_count": 17,
   "metadata": {},
   "outputs": [],
   "source": [
    "tool = pyocr.get_available_tools()[0]\n",
    "lang = 'eng'"
   ]
  },
  {
   "cell_type": "code",
   "execution_count": 18,
   "metadata": {},
   "outputs": [],
   "source": [
    "req_image = []\n",
    "final_text = []"
   ]
  },
  {
   "cell_type": "code",
   "execution_count": 19,
   "metadata": {},
   "outputs": [],
   "source": [
    "image_pdf = Image(filename=\"./TheWickednessofMatsu.pdf\", resolution=300)\n",
    "image_jpeg = image_pdf.convert('jpeg')"
   ]
  },
  {
   "cell_type": "code",
   "execution_count": 20,
   "metadata": {},
   "outputs": [],
   "source": [
    "for img in image_jpeg.sequence:\n",
    "    img_page = Image(image=img)\n",
    "    req_image.append(img_page.make_blob('jpeg'))"
   ]
  },
  {
   "cell_type": "code",
   "execution_count": 21,
   "metadata": {},
   "outputs": [],
   "source": [
    "for img in req_image: \n",
    "    txt = tool.image_to_string(\n",
    "        PI.open(io.BytesIO(img)),\n",
    "        lang=lang,\n",
    "        builder=pyocr.builders.TextBuilder()\n",
    "    )\n",
    "    final_text.append(txt)"
   ]
  },
  {
   "cell_type": "code",
   "execution_count": 23,
   "metadata": {},
   "outputs": [
    {
     "name": "stdout",
     "output_type": "stream",
     "text": [
      "['THE WICKEDNESS OF MATSU\\n\\nBy Onoto Watanna\\n\\nously drooped her head. She\\n\\nwas converted. Behind her,\\nMatsu smiled beneath her affected\\nfrown, and the minister coughed\\nslightly.\\n\\n“You, Yuki,” he said, with fatherly\\ngraciousness, ‘‘shall accompany us.\\nI feel we shall have cause to be proud\\nof you. And you—” He turned to\\nMatsu, and cleared his throat. Her\\neyes were meekly drooped also now,\\nand her hands folded, though, unlike\\nYuki, she had not fallen on her knees.\\nAs the minister paused, her lips\\nmoved, and she said, with the queerest\\nintonation:\\n\\n‘* Me?”\\n\\n‘*You are hardly yet prepared,” he\\nsaid, gently.\\n\\nThe eyelids flashed up. There was\\na prayer in the depths of the dark\\neyes.\\n\\n“* A-a, ple-ease, excellency, me also,”\\nshe said, dragging her words plead-\\ningly.\\n\\nThe minister’s composure vanished.\\nHe tried to look severe, and kept his\\ngaze resolutely averted from the little\\nupraised face; then his eyes encoun-\\ntered one beseeching little hand out-\\nstretched, and he fluttered.\\n\\nYuki finished her prayers and rose\\nto her feet, turning a reproachful look\\non her friend. To the minister she\\nsaid: ‘‘Matsu nod understan’ to be\\ngood.” This very apologetically, and\\nwith a resigned shake of her head.\\n\\n‘“*Me?” said Matsu, with superb\\npassion. ‘‘Am good—mos’ gooder’n\\nall.”\\n\\n“Then why you nod pray?” de-\\nmanded Yuki, ‘‘an’ also why you nod\\nbaptize? An’ also why you nod b’long\\n\\n\\\\ J UKI folded her hands and pi-\\n\\nad thad church of Jesu Christ an’\\nSav’or?”\\n\\n‘*Hah!” said Matsu, with vehe-\\nmence, ‘‘tha’s account I Zoo good!”\\nShe caught her breath guiltily and\\nstood confessed.\\n\\n‘“‘I nod mean thad,” she said, piti-\\nfully, but it was no use. Yuki was\\nglad Matsu had betrayed herself.\\nShe went off slyly smiling, and left\\nthe minister and Matsu in the Mission\\nhouse alone. It was dark inside, and\\nthe gloom of the place made the girl\\nshiver. She looked out wistfully to\\nwhere the half-opened door let in a\\nstray gleam of the fading sunlight.\\nThe minister pushed the door wide,\\nand they passed out together and\\nwalked side by side toward the crest\\nof the little hill on which the Mission\\nhouse stood. It was not the first time\\nthey had together watched the sun\\nset.\\n\\nThe United Missionary Society had\\nquite recently requested the return to\\nAmerica of the minister, and had also\\nauthorized him to bring back with\\nhim to America two of his subject-\\nconverts. Now both Yuki and Matsu\\nhad been adopted by the Missionary\\nSociety since they were little children,\\nand had grown upinit. Yuki, meek,\\nsubmissive, sweet, pretty and passive,\\nwas the pride of the entire Mission, but\\nMatsu was as far from the Cross as\\nthe day they had taken her in, a\\nhungry, forlorn, fighting little morsel\\nof humanity, clad in rags and dirt,\\nwhom one of the workers had found\\nin the streets. Noone had ever taken\\nthe trouble to find out who she was or\\nto whom she belonged. It was the\\ncustom of the Mission house to take\\nin such waifs, and moreover, it was an', \"138 THE SMART SET\\n\\neasier matter to educate these chil-\\ndren and bring them up in the Chris-\\ntian faith than it was to make converts\\namong those who had ingrained into\\nthem, and were satisfied with, their\\nown older religion. But Matsu was,\\nunfortunately, untrainable, and, al-\\nthough a product of the Mission school,\\nreflected discredit on that worthy\\ninstitution, and it was the custom of\\nthe workers there to keep her out of\\n_ sight on the occasion of visits from\\nsundry foreigners who sought to in-\\nvestigate the work of the Mission.\\nHad it not been for the minister, who\\nhad been moved from Osaka to Kyoto\\na year before, Matsu would have been\\nturned adrift, for she had arrived at\\nthe age of fifteen, and it was the\\njudgment of the missionaries that,\\nsince she could not be brought to con-\\nform to their belief, she should not be\\npermitted to remain in the school,\\nwhere her radical ideas and opinions\\nwere anything but conducive to dis-\\ncipline.\\n\\nBut the minister had acquired a\\npeculiar fondness for the little maid.\\nShe exercised a strange influence over\\nhim, and while he sternly disapproved\\nof her naughtinesses and recognized\\nto the full the evil effect on the other\\nchildren likely to result from her\\nassociation with them, he was in the\\nhabit of shielding and even concealing\\nher failings from his associates. More-\\nover, he never attempted to argue\\nwith her, or even to teach her, and in\\nthis way really had more influence\\nover her than if he haddone so. She\\nwould go to him and confide to him\\nher little troubles, her thoughts, her\\nqueer fancies.\\n\\nThe minister knew his fondness for\\nMatsu was in a measure perilous, for\\nthough no one else had perceived any-\\nthing out of the ordinary in his friend-\\nship for her, the girl herself was cun-\\nningly well aware of it, and elfishly\\nworked upon his weakness. Now her\\nheart was set on going to America,\\nand she was using all her wiles and\\nsmiles and witcheries with that end in\\nview. It was really a serious crisis\\nthe minister was facing now. Much\\nas he would have liked to take Matsu\\n\\nwith them, he was yet seriously af-\\nfected by the idea of what the result\\nwould be if she, with all her wilfulness\\nand mockery and defiance, was sent\\nas a type of the convert from the\\nMission school.\\n\\nAs they walked along slowly to-\\ngether he debated within himself.\\n\\n‘*No,” he said, suddenly stopping.\\n“It is out of the question, Matsu.”’\\n\\n‘* Please, excellency!”\\n\\n‘““No. Don’t beg like that, Matsu,’’\\nhe said, nervously. ‘‘It’s no use.\\nYou must understand, you ought to,\\nhow—how absurd it would be, how it\\nwould hurt me, in fact. You wouldn't\\nwant me to get into trouble, would\\nyou, Matsu?” he asked, softly.\\n\\nShe shook her head, and then sud-\\ndenly caught at his sleeve, her eyes\\nshining with a quick inspiration.\\n\\n‘‘Bud—sup-pose I gitting convert-\\ned?” She put it to him seductively.\\n\\nHe gasped.\\n\\n‘* Ah, that would be different, then,\\nlittle girl,” he answered, quickly, and\\nlooked stealthily at the alluring little\\nhand, that had somehow found its\\nway intohis. He wondered at its power\\nof expression. Her eyes danced now.\\n\\n“YT am convert!” she declared,\\npromptly.\\n\\n‘“* You—now?” He began laughing,\\nand she, encouraged, joined with him\\njoyously.\\n\\n‘‘Yaes;seeme? Iam convert, so—\\nso,” and she dropped on her knees\\nand began imitating Yuki’s pose to\\nanicety. Herlips moved, she clasped\\nher hands, she raised her eyes to\\nheaven.\\n\\nThe minister went pale. This was\\ntoo much.\\n\\n‘Don’t do that,” he said, sharply,\\nand lifted her to her feet almost\\nroughly. Then he began speaking\\nquickly, jerkily.\\n\\n‘“‘Tt’s no use. You do not—you\\ncould not—understand the real spirit\\nof the religion. You would disgrace\\nnot only me, but the Mission work\\nhere. They will ask you all sorts of\\nquestions. They arc only too glad to\\nfind a flaw in one’s work and pull it to\\npieces over there. You would be an\\nexcellent card for them, and would\", \"THE WICKEDNESS OF MATSU\\n\\nplay into their hands. Why, you\\ndon’t understand all it means. You\\ncan’t go, Matsu. You mustn't.”\\n\\n‘‘God-A’mighty!” the girl said, trag-\\nically; ‘‘ whad I done?”\\n\\nHe stared at her hopelessly.\\n\\n‘Where did you learn that?”\\n\\n“Thad ‘ God-A’mighty?’”\\n\\nHe nodded.\\n\\n‘“You!” She laughed triumphantly\\nnow.\\n\\n‘‘I did not use it in that way,” he\\nsaid, flushing a dark red. But she\\nnodded vehemently.\\n\\n‘* Jus’ like thad—when you angery.”\\n\\nce Angry?”\\n\\n*“Yes, with thad priest wot criticis-\\ning you nize worg. ’Member? I hear-\\ning you like this,’ and she mocked\\nhim with exaggeration.\\n\\nHe frowned uncomfortably.\\n\\n‘‘Tha’s bad?” she questioned, de-\\nmurely, peeping at him with her head\\ncocked on one side.\\n\\n“It isn’t good,” he said, shortly.\\n\\n‘*So?” She was thoughtful a mo-\\nment, and then: ‘‘Sa-ay, you nod\\nsending me at America account I nod\\ngood? Well, also why you sending\\ntherefore you, you-ownself?”\\n\\nHe stirred miserably under her ac-\\ncusing, quizzing eyes.\\n\\n‘“‘Oh, you're right,” he said, dis-\\nheartenedly, for he was out of sorts.\\n**T don’t amount to much, Matsu, and\\nthe fact is, I don’t want to go; but I'm\\nunder marching orders, you see.”\\n\\n‘‘Marching orders? Say, why you\\ndon’ putting me under them same\\nmarching orders?”\\n\\nShe came round to the front of him\\nand peered up into his face. Her\\nhead reached to his chin, and he was\\nconscious that her hair was perfumed\\nwith a faint, subtle odor that was de-\\nlightful.\\n\\nSomeone came swiftly up to them,\\nand he heard the high, nasal voice of\\nMiss Johnson from the Mission\\nschool.\\n\\n‘¢ Oh, Mr. Brandon, you are wanted.\\nThere’s a meeting at eight, and they\\nwant you a little in advance—”\\nShe stopped short and stood staring\\nat Matsu in speechless, suspicious\\nhorror.\\n\\n139\\n\\n‘‘Matsu! where did you get that\\ndress? and why are you dressed like\\nthat?”\\n\\nThe girl laughed defiantly, even as\\nshe retreated.\\n\\nThe gown was extravagantly beau-\\ntiful and of the richest quality of\\nsilk. She smoothed it daintily and\\ncaressingly.\\n\\n‘*T geisha girl now,” she declared,\\n‘‘an’ I kin danze—so!” She executed\\na few steps.\\n\\nMiss Johnson turned on the minis-\\nter.\\n\\n‘“T knew it would come to this,”\\nshe wailed, ‘‘after all these years.\\nWe might have expected it. She has\\nbeen at her tricks again—deceiving\\nus! It will hurt the other girls, our\\ndear, pure-minded Christian girls.”\\n\\n“T nod tricking you,” broke in\\nMatsu, savagely. ‘‘Tha’s nod wigged\\ndanzing. Tha’s mos’ nize of all. You\\nthing I go worg ad thad factory git-\\nting my hands all so dirty and sore?\\nNo; I xod!” she declared, passion-\\nately.\\n\\n‘*You could have followed some\\nworthy trade. You could have even\\ntaken up the mission work, if it hadn’t\\nbeen for your wicked nature. And it\\nwas only last night Yuki told us that\\nyou had declared yourself converted.”\\n\\nMatsu- shrugged her shoulders\\nfiercely. ‘‘I bagsliding!” she said.\\n\\nThe minister spoke to her gently.\\n‘* You would better come back with\\nus for the present,” he said.\\n\\n‘You taking me at that Amer-\\nica?”’\\n\\n‘‘That is—impossible.”\\n\\nShe turned quickly and ran down\\nthe hillside.\\n\\nThe preparations for the departure\\nof the party wenton slowly. Another\\ngirl and Yuki had been chosen to ac-\\ncompany the minister, and the unself-\\nish workers at the Mission willingly\\nmade ready for them a comfortable\\nlittle wardrobe that would stand them\\nin good stead in America. The min-\\nister was ill at ease, and absent-\\nminded. Since the day when she had\\nrun away from them nothing had\\nbeen seen of Matsu. The teachers\", '140\\n\\nhad unanimously agreed that she was\\nreally past redemption. No effort\\nwas made to find out her whereabouts;\\nand, in fact, they one and all declared\\nthat it was, after all, just what they\\nmight have expected of her. They\\nhad had somewhat similar experience\\nwith all the half-caste children—they\\nwere unstable, unreliable, incapable\\nof restraint. But the minister said\\nlittle. He had acquired a habit of\\ngoing down into the city after his\\nwork was finished and frequenting\\nthe different tea-gardens and dancing\\nplaces. There was no sign of Matsu,\\nand he worried so much over her loss\\nthat he grew thin and haggard from\\nsleeplessness.\\n\\nIt was a couple of nights before\\ntheir departure that, as he was enter-\\ning his house, he felt someone pull\\nhis coat tail, and, turning quickly, he\\nencountered the sharp, defiant eyes\\nof Matsu. He was so relieved and\\noverjoyed at seeing her that he almost\\nshouted. She clung to hishand as he\\ndrew her indoors.\\n\\n‘* Well, Matsu?” was what he said,\\nafter a moment, and then, as she\\nseemed loath to speak, he prompted\\nher: ‘‘ Where have you been?”\\n\\n‘*Me? Oh, jus’ liddle bit visit.”\\n°* Where?”\\n‘*Where? Let me see——”\\n\\n‘*Tell me the truth, Matsu.”\\n\\nShe laughed hysterically.\\n\\n“‘T bin danzing,” she said, drear-\\nily.\\n‘* And you don’t like it?) Prefer the\\npeaceful life here?”\\n\\nShe caught her breath with a sob.\\n\\n‘‘T like go at America,” she said.\\n\\n‘* Why?”\\n\\nShe still tightly clasped his hand\\nwith both her small ones.\\n\\n“Ah, to be with you,”\\nbreathed.\\n\\nAfter that they stood in silence,\\nand the minister closed his eyes. Her\\nconfession had startled his blood de-\\nliriously. No one in all his life had\\n\\nshe\\n\\nTHE SMART SET\\n\\never cared for him in that way before.\\nThe girl regarded him wistfully.\\n\\n‘You got already ’nuder wife?” she\\ninquired, anxiously; ‘‘mebbe two,\\nthree, ‘leven, one hundred wifes?”\\n\\nHe shook his head, smiling faintly\\nat her imagination, which was always\\nso vivid.\\n\\n‘Why you nod marry with me,\\nthen?’ she asked, and went closer to\\nhim.\\n\\nHe put his two hands on her shoul-\\nders, and held her off.\\n\\n‘* Listen, Matsu, and look at me,\\ntoo. See, I am years older than you\\nare—past forty, in fact, and you a\\nlittle girl of fifteen. Then, too, you\\nare pretty, very pretty, Matsu, while\\nI—well, you see, dear, I am a very\\nplain, homely man—ugly, perhaps.”’\\n\\nShe denied this vehemently.\\n\\n‘You mos’ beautifulest gen’lemans\\nin all the whole worl’.”\\n\\nHe laughed joyously.\\n\\n‘“Well, you’re the only person\\nwho ever thought that, Matsu. In\\nfact, I don’t suppose anybody ever\\nthought long enough about me to\\nbother over that question. Then, too,\\nI am poor, quite poor, with barely\\nenough for independence, while you—\\nremember that Jap fellow that used\\nto haunt the Mission house, and you?\\nWhat became of him, Matsu? He\\nhad money to burn, and, well, you\\nknow he came to me and wanted you\\nfor his wife; in fact, said he was will-\\ning to become a convert if I’d let\\nhim have you.”\\n\\n‘* Why he don’ burn his ole money?”\\n\\nshe asked, scornfully. ‘‘Me? I don’\\nwant.”\\nThey were silent for a moment\\n\\nafter that, then the minister drew her\\na little closer to him. ‘‘ You’re too\\ngood for me, little girl,” he said,\\nlooking down into hereyes. ‘‘ There’s\\nnothing to me, in fact, except——”\\n\\n‘‘ Except?” she repeated.\\n\\n‘That I love you, Matsu-san,” he\\nsaid, softly.\\n\\nOe']\n"
     ]
    }
   ],
   "source": [
    "print(final_text)"
   ]
  },
  {
   "cell_type": "code",
   "execution_count": 22,
   "metadata": {},
   "outputs": [
    {
     "data": {
      "text/plain": [
       "['afr',\n",
       " 'amh',\n",
       " 'ara',\n",
       " 'asm',\n",
       " 'aze',\n",
       " 'aze_cyrl',\n",
       " 'bel',\n",
       " 'ben',\n",
       " 'bod',\n",
       " 'bos',\n",
       " 'bre',\n",
       " 'bul',\n",
       " 'cat',\n",
       " 'ceb',\n",
       " 'ces',\n",
       " 'chi_sim',\n",
       " 'chi_sim_vert',\n",
       " 'chi_tra',\n",
       " 'chi_tra_vert',\n",
       " 'chr',\n",
       " 'cos',\n",
       " 'cym',\n",
       " 'dan',\n",
       " 'deu',\n",
       " 'div',\n",
       " 'dzo',\n",
       " 'ell',\n",
       " 'eng',\n",
       " 'enm',\n",
       " 'epo',\n",
       " 'est',\n",
       " 'eus',\n",
       " 'fao',\n",
       " 'fas',\n",
       " 'fil',\n",
       " 'fin',\n",
       " 'fra',\n",
       " 'frk',\n",
       " 'frm',\n",
       " 'fry',\n",
       " 'gla',\n",
       " 'gle',\n",
       " 'glg',\n",
       " 'grc',\n",
       " 'guj',\n",
       " 'hat',\n",
       " 'heb',\n",
       " 'hin',\n",
       " 'hrv',\n",
       " 'hun',\n",
       " 'hye',\n",
       " 'iku',\n",
       " 'ind',\n",
       " 'isl',\n",
       " 'ita',\n",
       " 'ita_old',\n",
       " 'jav',\n",
       " 'jpn',\n",
       " 'jpn_vert',\n",
       " 'kan',\n",
       " 'kat',\n",
       " 'kat_old',\n",
       " 'kaz',\n",
       " 'khm',\n",
       " 'kir',\n",
       " 'kmr',\n",
       " 'kor',\n",
       " 'kor_vert',\n",
       " 'lao',\n",
       " 'lat',\n",
       " 'lav',\n",
       " 'lit',\n",
       " 'ltz',\n",
       " 'mal',\n",
       " 'mar',\n",
       " 'mkd',\n",
       " 'mlt',\n",
       " 'mon',\n",
       " 'mri',\n",
       " 'msa',\n",
       " 'mya',\n",
       " 'nep',\n",
       " 'nld',\n",
       " 'nor',\n",
       " 'oci',\n",
       " 'ori',\n",
       " 'osd',\n",
       " 'pan',\n",
       " 'pol',\n",
       " 'por',\n",
       " 'pus',\n",
       " 'que',\n",
       " 'ron',\n",
       " 'rus',\n",
       " 'san',\n",
       " 'script/Arabic',\n",
       " 'script/Armenian',\n",
       " 'script/Bengali',\n",
       " 'script/Canadian_Aboriginal',\n",
       " 'script/Cherokee',\n",
       " 'script/Cyrillic',\n",
       " 'script/Devanagari',\n",
       " 'script/Ethiopic',\n",
       " 'script/Fraktur',\n",
       " 'script/Georgian',\n",
       " 'script/Greek',\n",
       " 'script/Gujarati',\n",
       " 'script/Gurmukhi',\n",
       " 'script/HanS',\n",
       " 'script/HanS_vert',\n",
       " 'script/HanT',\n",
       " 'script/HanT_vert',\n",
       " 'script/Hangul',\n",
       " 'script/Hangul_vert',\n",
       " 'script/Hebrew',\n",
       " 'script/Japanese',\n",
       " 'script/Japanese_vert',\n",
       " 'script/Kannada',\n",
       " 'script/Khmer',\n",
       " 'script/Lao',\n",
       " 'script/Latin',\n",
       " 'script/Malayalam',\n",
       " 'script/Myanmar',\n",
       " 'script/Oriya',\n",
       " 'script/Sinhala',\n",
       " 'script/Syriac',\n",
       " 'script/Tamil',\n",
       " 'script/Telugu',\n",
       " 'script/Thaana',\n",
       " 'script/Thai',\n",
       " 'script/Tibetan',\n",
       " 'script/Vietnamese',\n",
       " 'sin',\n",
       " 'slk',\n",
       " 'slv',\n",
       " 'snd',\n",
       " 'snum',\n",
       " 'spa',\n",
       " 'spa_old',\n",
       " 'sqi',\n",
       " 'srp',\n",
       " 'srp_latn',\n",
       " 'sun',\n",
       " 'swa',\n",
       " 'swe',\n",
       " 'syr',\n",
       " 'tam',\n",
       " 'tat',\n",
       " 'tel',\n",
       " 'tgk',\n",
       " 'tha',\n",
       " 'tir',\n",
       " 'ton',\n",
       " 'tur',\n",
       " 'uig',\n",
       " 'ukr',\n",
       " 'urd',\n",
       " 'uzb',\n",
       " 'uzb_cyrl',\n",
       " 'vie',\n",
       " 'yid',\n",
       " 'yor']"
      ]
     },
     "execution_count": 22,
     "metadata": {},
     "output_type": "execute_result"
    }
   ],
   "source": [
    "tool.get_available_languages()"
   ]
  },
  {
   "cell_type": "code",
   "execution_count": null,
   "metadata": {},
   "outputs": [],
   "source": []
  }
 ],
 "metadata": {
  "kernelspec": {
   "display_name": "Python 3",
   "language": "python",
   "name": "python3"
  },
  "language_info": {
   "codemirror_mode": {
    "name": "ipython",
    "version": 3
   },
   "file_extension": ".py",
   "mimetype": "text/x-python",
   "name": "python",
   "nbconvert_exporter": "python",
   "pygments_lexer": "ipython3",
   "version": "3.6.8"
  }
 },
 "nbformat": 4,
 "nbformat_minor": 2
}
